{
 "cells": [
  {
   "cell_type": "code",
   "execution_count": null,
   "id": "caf83e8d-f356-430c-bce7-9a15e15cd624",
   "metadata": {},
   "outputs": [],
   "source": [
    "import ee\n",
    "from modules import abd\n",
    "\n",
    "# Initialize Google Earth Engine\n",
    "ee.Initialize()\n",
    "\n",
    "# folder where to save results\n",
    "folder = \"/path/to/desired/folder\"\n",
    "\n",
    "# create algorithm object\n",
    "algorithm = abd.Abd(lat_lon=\"-83.50124371805877,41.88435023280987,-83.07548096199702,41.65275061592091,\n",
    "                    date=\"2019-06-03\",\n",
    "                    days_threshold=180,\n",
    "                    model=\"ocsvm\",\n",
    "                    sensor=\"modis\")\n",
    "\n",
    "# creating timeseries based on days_thresholds\n",
    "algorithm.process_timeseries_data()\n",
    "\n",
    "# creating train and grid datasets\n",
    "algorithm.process_training_data(df=algorithm.df_timeseries)\n",
    "\n",
    "# start training process\n",
    "algorithm.train()\n",
    "\n",
    "# apply detection algorithm\n",
    "algorithm.detect()\n",
    "\n",
    "# validate using ROI - example (https://code.earthengine.google.com/)\n",
    "algorithm.validate_using_roi(path='users/gee-user-name/erie', rois=['2019-06-03_modis_regular', '2019-06-03_modis_anomaly'], labels=[0, 1])\n",
    "\n",
    "# save geojson\n",
    "algorithm.save_geojsons(folder=folder+\"/geojson\")\n",
    "\n",
    "# save results\n",
    "algorithm.save_dataset(df=algorithm.df_results, path=folder+'/results.csv')\n",
    "\n",
    "# save collection images\n",
    "algorithm.save_timeseries_plot(df=algorithm.df_timeseries, path=folder+'/timeseries.png')\n",
    "if isinstance(algorithm.df_image, pd.DataFrame) and not algorithm.df_image.empty:\n",
    "    algorithm.save_detection_plot(path=folder+'/detection.png')\n",
    "    algorithm.save_image_png(image=algorithm.image_clip, date=dt.strptime(date, \"%Y-%m-%d\"), path=folder+\"/\"+date+\".png\")\n",
    "    algorithm.save_image_tiff(image=algorithm.image_clip, date=dt.strptime(date, \"%Y-%m-%d\"), path=folder+\"/\"+date+\".zip\", folderName=args.name)\n",
    "    \n",
    "# save collection images (tiff and png)\n",
    "if args.save_collection:\n",
    "    algorithm.save_collection_tiff(folder=folder+\"/tiff\", folderName=\"abd_erie.tiff\")\n",
    "    algorithm.save_collection_png(folder=folder+\"/png\")\n",
    "\n",
    "# save preprocessing results\n",
    "if args.save_train:\n",
    "    algorithm.save_dataset(df=algorithm.df_timeseries, path=folder+'/timeseries.csv')\n",
    "    algorithm.save_dataset(df=algorithm.df_train, path=folder+'/df_train.csv')\n",
    "    algorithm.save_dataset(df=algorithm.df_gridsearch, path=folder+'/df_gridsearch.csv')\n",
    "    algorithm.save_dataset(df=algorithm.df_image, path=folder+'/df_image.csv')"
   ]
  }
 ],
 "metadata": {
  "kernelspec": {
   "display_name": "Python 3 (ipykernel)",
   "language": "python",
   "name": "python3"
  },
  "language_info": {
   "codemirror_mode": {
    "name": "ipython",
    "version": 3
   },
   "file_extension": ".py",
   "mimetype": "text/x-python",
   "name": "python",
   "nbconvert_exporter": "python",
   "pygments_lexer": "ipython3",
   "version": "3.8.15"
  }
 },
 "nbformat": 4,
 "nbformat_minor": 5
}
